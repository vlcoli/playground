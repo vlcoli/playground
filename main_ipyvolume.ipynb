{
 "cells": [
  {
   "cell_type": "code",
   "execution_count": 1,
   "metadata": {},
   "outputs": [],
   "source": [
    "#\n",
    "#\n",
    "# https://www.youtube.com/watch?v=hOKa8klJPyo\n",
    "import os\n",
    "from skimage import io\n",
    "import matplotlib.pyplot as plt\n",
    "import numpy as np\n",
    "import time\n",
    "import ipyvolume as ipv\n",
    "\n",
    "#%matplotlib widget\n",
    "from PIL import Image\n",
    "\n",
    "# https://biomedicalhub.github.io/python-data/skimage.html\n",
    "import skimage.io as skio\n"
   ]
  },
  {
   "cell_type": "code",
   "execution_count": 2,
   "metadata": {},
   "outputs": [
    {
     "data": {
      "text/plain": [
       "'\\nfor file in os.listdir(\\'data\\'):\\n    if file.endswith(\".tif\"):\\n        print(os.path.join(\"data\", file))\\n        imgs.append(os.path.join(\"data\", file))\\n'"
      ]
     },
     "execution_count": 2,
     "metadata": {},
     "output_type": "execute_result"
    }
   ],
   "source": [
    "imgs = []\n",
    "\"\"\"\n",
    "for file in os.listdir('data'):\n",
    "    if file.endswith(\".tif\"):\n",
    "        print(os.path.join(\"data\", file))\n",
    "        imgs.append(os.path.join(\"data\", file))\n",
    "\"\"\""
   ]
  },
  {
   "cell_type": "code",
   "execution_count": 3,
   "metadata": {},
   "outputs": [
    {
     "name": "stderr",
     "output_type": "stream",
     "text": [
      "TiffPage 0: TypeError: read_bytes() missing 3 required positional arguments: 'dtype', 'count', and 'offsetsize'\n"
     ]
    },
    {
     "data": {
      "image/png": "[encoded data removed]",
      "text/plain": [
       "<Figure size 432x288 with 1 Axes>"
      ]
     },
     "metadata": {
      "needs_background": "light"
     },
     "output_type": "display_data"
    }
   ],
   "source": [
    "# read the image stack\n",
    "#img_index = 5\n",
    "#img = io.imread(imgs[img_index])\n",
    "image_path = '/home/cnrs/ownCloud/data_local/2. CT Valerose/vlc_fromPisani_16bit/nV1_9/nV1_9_cropped.tif'\n",
    "image_path = r'/scratch/USB-disk/ANR CIMO/CT CIMO/1. CT ASTR-X/astrx_données_mai16/obj1 (AP_0001)/Substack_135-1483_noBG.tif'\n",
    "\n",
    "img = io.imread(image_path)\n",
    "\n",
    "#img    = skio.imread(image_path, plugin=\"tifffile\")\n",
    "\n",
    "\n",
    "\n",
    "img_slice = 150\n",
    "plt.imshow(img[img_slice],cmap='gray')\n",
    "plt.axis('off')\n",
    "plt.show()\n",
    "\n",
    "#struct_arr    = skio.imread(image_path, plugin=\"tifffile\")\n",
    "#plt.imshow(struct_arr[75])\n"
   ]
  },
  {
   "cell_type": "code",
   "execution_count": 39,
   "metadata": {},
   "outputs": [
    {
     "name": "stdout",
     "output_type": "stream",
     "text": [
      "(1349, 1979, 1920)\n"
     ]
    },
    {
     "data": {
      "text/plain": [
       "(1349, 1979, 1920)"
      ]
     },
     "execution_count": 39,
     "metadata": {},
     "output_type": "execute_result"
    }
   ],
   "source": [
    "img[img_slice].shape\n",
    "#img.shape\n",
    "a = img.shape[0]\n",
    "b = img.shape[1]\n",
    "c = img.shape[2]\n",
    "max(a, b, c)\n",
    "img2 = img[:,:, :]\n",
    "print(img2.shape)\n",
    "#img2 = img.T\n",
    "#print(img2.shape)\n",
    "#img2 = img2.T\n",
    "#print(img2.shape)\n",
    "#img2 = np.array(img)\n",
    "img2.shape"
   ]
  },
  {
   "cell_type": "code",
   "execution_count": 44,
   "metadata": {},
   "outputs": [
    {
     "data": {
      "application/vnd.jupyter.widget-view+json": {
       "model_id": "9198adc2740d45c7a2422f2dfcb566e9",
       "version_major": 2,
       "version_minor": 0
      },
      "text/plain": [
       "VBox(children=(VBox(children=(HBox(children=(Label(value='levels:'), FloatSlider(value=0.1, max=1.0, step=0.00…"
      ]
     },
     "metadata": {},
     "output_type": "display_data"
    }
   ],
   "source": [
    "a = np.floor(0.5*img2.shape[0]) + 1000\n",
    "b = np.floor(0.5*img2.shape[1]) + 1000\n",
    "c = np.floor(0.5*img2.shape[2]) + 1000\n",
    "f = ipv.figure()\n",
    "ipv.volshow(img2,# lighting=False, level=[1.0, 0., 0.0], opacity=0.03, level_width=0.1,\n",
    "                 extent=[[-a, a], [-b, b], [-c, c]]\n",
    "           )\n",
    "# ipv.xyzlim(img2.shape)\n",
    "#ipv.xyzlim(b)\n",
    "ipv.xyzlim(3000)\n",
    "#ipv.xyzlim?\n",
    "#ipv.squarelim()\n",
    "ipv.show()"
   ]
  },
  {
   "cell_type": "code",
   "execution_count": 42,
   "metadata": {},
   "outputs": [],
   "source": [
    "ipv.xyzlim?"
   ]
  },
  {
   "cell_type": "code",
   "execution_count": 38,
   "metadata": {},
   "outputs": [
    {
     "name": "stdout",
     "output_type": "stream",
     "text": [
      "(32, 20, 8)\n"
     ]
    },
    {
     "data": {
      "application/vnd.jupyter.widget-view+json": {
       "model_id": "a3aa1bc3a9a04af0aa64e3e47d57b01d",
       "version_major": 2,
       "version_minor": 0
      },
      "text/plain": [
       "VBox(children=(VBox(children=(HBox(children=(Label(value='levels:'), FloatSlider(value=0.1, max=1.0, step=0.00…"
      ]
     },
     "metadata": {},
     "output_type": "display_data"
    }
   ],
   "source": [
    "f = ipv.figure()\n",
    "aff = np.random.rand(32, 20, 8)\n",
    "print(aff.shape)\n",
    "ipv.volshow(aff, extent=[[-16,16],[-10,10],[-4,4]]\n",
    "           )\n",
    "ipv.xyzlim(16)\n",
    "ipv.show()"
   ]
  },
  {
   "cell_type": "code",
   "execution_count": 21,
   "metadata": {},
   "outputs": [
    {
     "name": "stdout",
     "output_type": "stream",
     "text": [
      "(1349, 1979, 1920)\n",
      "0 59991\n"
     ]
    }
   ],
   "source": [
    "# numpy array from img\n",
    "imarray = np.array(img)\n",
    "print(imarray.shape)\n",
    "print(imarray.min(), imarray.max())"
   ]
  },
  {
   "cell_type": "code",
   "execution_count": 22,
   "metadata": {},
   "outputs": [
    {
     "name": "stdout",
     "output_type": "stream",
     "text": [
      "Histogram duration = 214.02114267100114\n"
     ]
    }
   ],
   "source": [
    "# histogram  (ignore cells containing 0)\n",
    "\n",
    "# nb of slices of the histogram\n",
    "nb_slices = 64\n",
    "\n",
    "# threshold of the minimum value used fot histogram calculation\n",
    "ceil = 1\n",
    "\n",
    "# calculate the slices bundaries of the histogram\n",
    "slices = []\n",
    "for i in range(nb_slices+1):\n",
    "    slices.append(i * imarray.max() / nb_slices)\n",
    "slices[0] = ceil   # ignore 0 (black) in histogram calculation (air around the object)\n",
    "\n",
    "start_time = time.perf_counter()\n",
    "histo = np.histogram(imarray,bins = slices)[0]\n",
    "#print(histo)\n",
    "duration = time.perf_counter() - start_time\n",
    "print(\"Histogram duration = \"+ str(duration))"
   ]
  },
  {
   "cell_type": "code",
   "execution_count": 24,
   "metadata": {},
   "outputs": [],
   "source": [
    "# display the histogram\n",
    "im_flatview = imarray.ravel()  # nd-array to 1d-array (im_flatview is a view, modifying it modifies also imarray)\n",
    "plt.hist(im_flatview, bins = slices) \n",
    "plt.title(\"histogram of \"+ image_path) \n",
    "#plt.title(\"histogram of \"+ imgs[img_index]) \n",
    "plt.show()"
   ]
  },
  {
   "cell_type": "code",
   "execution_count": 25,
   "metadata": {},
   "outputs": [
    {
     "name": "stdout",
     "output_type": "stream",
     "text": [
      "minima:6136 / index = 41\n",
      "maxima:52651031 / index = 26\n",
      "## automatic minima/maxima detection failed\n",
      "## minima:6136 / index = 41\n",
      "## maxima:52651031 / index = 26\n"
     ]
    },
    {
     "ename": "NameError",
     "evalue": "name 'threshold' is not defined",
     "output_type": "error",
     "traceback": [
      "\u001b[0;31m---------------------------------------------------------------------------\u001b[0m",
      "\u001b[0;31mNameError\u001b[0m                                 Traceback (most recent call last)",
      "\u001b[0;32m<ipython-input-25-652a3bbff84c>\u001b[0m in \u001b[0;36m<module>\u001b[0;34m\u001b[0m\n\u001b[1;32m     44\u001b[0m         \u001b[0;32mbreak\u001b[0m\u001b[0;34m\u001b[0m\u001b[0;34m\u001b[0m\u001b[0m\n\u001b[1;32m     45\u001b[0m \u001b[0;34m\u001b[0m\u001b[0m\n\u001b[0;32m---> 46\u001b[0;31m \u001b[0mprint\u001b[0m\u001b[0;34m(\u001b[0m\u001b[0;34m\"threshold = \"\u001b[0m \u001b[0;34m+\u001b[0m \u001b[0mstr\u001b[0m\u001b[0;34m(\u001b[0m\u001b[0mthreshold\u001b[0m\u001b[0;34m)\u001b[0m\u001b[0;34m)\u001b[0m\u001b[0;34m\u001b[0m\u001b[0;34m\u001b[0m\u001b[0m\n\u001b[0m\u001b[1;32m     47\u001b[0m \u001b[0;34m\u001b[0m\u001b[0m\n\u001b[1;32m     48\u001b[0m \u001b[0;31m#inter = np.where(imarray>threshold,0,imarray)\u001b[0m\u001b[0;34m\u001b[0m\u001b[0;34m\u001b[0m\u001b[0;34m\u001b[0m\u001b[0m\n",
      "\u001b[0;31mNameError\u001b[0m: name 'threshold' is not defined"
     ]
    }
   ],
   "source": [
    "# thresholding \n",
    "#\n",
    "# detect the first minima and maxima of the histogram\n",
    "# and calculate the threshold with these values\n",
    "#\n",
    "\n",
    "start_time = time.perf_counter()\n",
    "\n",
    "sum = 0\n",
    "for v in histo:\n",
    "    sum += v\n",
    "minima = sum\n",
    "maxima = -1\n",
    "minima_index = -1\n",
    "maxima_index = -1\n",
    "\n",
    "# do not study the begining and end of the curve\n",
    "start= int(nb_slices*1/10)\n",
    "stop = int(nb_slices*2/3)\n",
    "for i in range(start, stop):\n",
    "    if ( histo[i] < minima):\n",
    "        minima = histo[i]\n",
    "        minima_index = i\n",
    "    if ( histo[i] > maxima):\n",
    "        maxima = histo[i]\n",
    "        maxima_index = i\n",
    "\n",
    "print(\"minima:\" + str(minima) + \" / index = \"+ str(minima_index))\n",
    "print(\"maxima:\" + str(maxima) + \" / index = \"+ str(maxima_index))\n",
    "\n",
    "if minima_index == -1 or maxima_index == -1 or minima_index > maxima_index:\n",
    "    print(\"## automatic minima/maxima detection failed\")\n",
    "    print(\"## minima:\" + str(minima) + \" / index = \"+ str(minima_index))\n",
    "    print(\"## maxima:\" + str(maxima) + \" / index = \"+ str(maxima_index))\n",
    "    exit\n",
    "\n",
    "# get a portion of the slope on histogram\n",
    "cut = minima + (maxima - minima) * 1/25\n",
    "\n",
    "# and then find the corresponding treshold\n",
    "for i in range( minima_index, maxima_index):\n",
    "    if histo[i] >= cut:\n",
    "        threshold = i * imarray.max() / nb_slices\n",
    "        break\n",
    "            \n",
    "print(\"threshold = \" + str(threshold))\n",
    "            \n",
    "#inter = np.where(imarray>threshold,0,imarray)\n",
    "#result=inter\n",
    "\n",
    "inter  = np.where(imarray < ceil , imarray.max() ,imarray) # eliminates the cells containing 0\n",
    "result = np.where(inter>threshold,0,inter)     # thresholding\n",
    "\n",
    "duration = time.perf_counter() - start_time\n",
    "print(\"Thresholding duration = \"+ str(duration))"
   ]
  },
  {
   "cell_type": "code",
   "execution_count": 8,
   "metadata": {},
   "outputs": [
    {
     "data": {
      "image/png": "[encoded data removed]",
      "text/plain": [
       "<Figure size 432x288 with 1 Axes>"
      ]
     },
     "metadata": {
      "needs_background": "light"
     },
     "output_type": "display_data"
    }
   ],
   "source": [
    "# histogram of the thresholded image  (black & white image)\n",
    "#histo2, bins = np.histogram(result,bins = [0 , 0.5, 1]) \n",
    "#print(histo2)\n",
    "#ratio = histo2[1] / (histo2[0]+ histo2[1])\n",
    "#print(\"ratio = \" + str(ratio))\n",
    "\n",
    "# display the histogram with truncated values \n",
    "#histo2, bins = np.histogram(result,bins = slices) \n",
    "\n",
    "res_flatview = result.ravel() \n",
    "plt.hist(res_flatview, bins = slices) \n",
    "plt.title(\"truncated histogram of \"+ image_path) \n",
    "#plt.title(\"truncated histogram of \"+ imgs[img_index]) \n",
    "plt.show()"
   ]
  },
  {
   "cell_type": "code",
   "execution_count": 9,
   "metadata": {},
   "outputs": [
    {
     "name": "stdout",
     "output_type": "stream",
     "text": [
      "[136570994   7784302]\n",
      "ratio black pixels = 0.05392460280778338\n"
     ]
    }
   ],
   "source": [
    "# do the requested thresholding by converting image to B&W\n",
    "result = np.where(inter>threshold,0,1)      \n",
    "\n",
    "# histogram of the thresholded image  (black & white image)\n",
    "histo2 = np.histogram(result,bins = [0 , 0.5, 1])[0]\n",
    "print(histo2)\n",
    "ratio = histo2[1] / (histo2[0]+ histo2[1])\n",
    "print(\"ratio black pixels = \" + str(ratio))"
   ]
  },
  {
   "cell_type": "code",
   "execution_count": 10,
   "metadata": {},
   "outputs": [
    {
     "data": {
      "image/png": "[encoded data removed]",
      "text/plain": [
       "<Figure size 432x288 with 1 Axes>"
      ]
     },
     "metadata": {
      "needs_background": "light"
     },
     "output_type": "display_data"
    },
    {
     "data": {
      "image/png": "[encoded data removed]",
      "text/plain": [
       "<Figure size 432x288 with 1 Axes>"
      ]
     },
     "metadata": {
      "needs_background": "light"
     },
     "output_type": "display_data"
    }
   ],
   "source": [
    "# display the results\n",
    "plt.imshow(img[img_slice],cmap='gray')\n",
    "plt.axis('off')\n",
    "plt.show()\n",
    "\n",
    "#plt.imshow(result[200], interpolation='nearest')\n",
    "plt.imshow(result[img_slice],cmap='gray')\n",
    "plt.axis('off')\n",
    "plt.show()\n"
   ]
  },
  {
   "cell_type": "code",
   "execution_count": 13,
   "metadata": {
    "scrolled": false
   },
   "outputs": [
    {
     "data": {
      "application/vnd.jupyter.widget-view+json": {
       "model_id": "df622194c74348ab943cc26a458d8ad8",
       "version_major": 2,
       "version_minor": 0
      },
      "text/plain": [
       "VBox(children=(VBox(children=(HBox(children=(Label(value='levels:'), FloatSlider(value=1.0, max=1.0, step=0.00…"
      ]
     },
     "metadata": {},
     "output_type": "display_data"
    }
   ],
   "source": [
    "ipv.quickvolshow(result, lighting=False, level=[1.0, 0., 0.0], opacity=0.03, level_width=0.1)"
   ]
  },
  {
   "cell_type": "code",
   "execution_count": 29,
   "metadata": {},
   "outputs": [
    {
     "data": {
      "application/vnd.jupyter.widget-view+json": {
       "model_id": "fe8e9d0965154b9986d70393af436359",
       "version_major": 2,
       "version_minor": 0
      },
      "text/plain": [
       "VBox(children=(VBox(children=(HBox(children=(Label(value='levels:'), FloatSlider(value=1.0, max=1.0, step=0.00…"
      ]
     },
     "metadata": {},
     "output_type": "display_data"
    }
   ],
   "source": [
    "# https://github.com/maartenbreddels/ipyvolume/issues/35\n",
    "\n",
    "f = ipv.figure()\n",
    "ipv.volshow(result, lighting=False, level=[1.0, 0., 0.0], opacity=0.03, level_width=0.1, \n",
    "                 extent=[[1,result.shape[0]],[1,result.shape[1]],[1,result.shape[2]]])\n",
    "#ipv.xyzlim(result.shape)\n",
    "ipv.xyzlim(max(result.shape))\n",
    "ipv.show()"
   ]
  },
  {
   "cell_type": "code",
   "execution_count": 21,
   "metadata": {},
   "outputs": [
    {
     "name": "stdout",
     "output_type": "stream",
     "text": [
      "(898, 204, 788)\n"
     ]
    }
   ],
   "source": [
    "print(result.shape)"
   ]
  },
  {
   "cell_type": "code",
   "execution_count": null,
   "metadata": {},
   "outputs": [],
   "source": []
  }
 ],
 "metadata": {
  "kernelspec": {
   "display_name": "Python 3",
   "language": "python",
   "name": "python3"
  },
  "language_info": {
   "codemirror_mode": {
    "name": "ipython",
    "version": 3
   },
   "file_extension": ".py",
   "mimetype": "text/x-python",
   "name": "python",
   "nbconvert_exporter": "python",
   "pygments_lexer": "ipython3",
   "version": "3.7.10"
  }
 },
 "nbformat": 4,
 "nbformat_minor": 4
}
